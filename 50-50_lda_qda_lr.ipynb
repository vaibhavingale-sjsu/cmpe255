{
 "cells": [
  {
   "cell_type": "code",
   "execution_count": 5,
   "metadata": {},
   "outputs": [],
   "source": [
    "import warnings\n",
    "warnings.filterwarnings('ignore')\n",
    "import pandas as pd\n",
    "import numpy as np\n",
    "from sklearn.model_selection import cross_val_predict\n",
    "import sklearn.metrics as sm\n",
    "from sklearn.metrics import confusion_matrix\n",
    "from sklearn.metrics import precision_score, recall_score\n",
    "from sklearn.metrics import classification_report as cr\n",
    "from sklearn.metrics import f1_score\n",
    "from sklearn.neighbors import KNeighborsClassifier\n",
    "from sklearn.linear_model import LinearRegression, LogisticRegression\n",
    "import sklearn.model_selection as sms\n",
    "import matplotlib.pyplot as plt\n",
    "from sklearn.discriminant_analysis import LinearDiscriminantAnalysis, QuadraticDiscriminantAnalysis\n",
    "from sklearn.metrics import roc_curve\n",
    "import matplotlib.pyplot as plt\n",
    "from sklearn.model_selection import train_test_split\n",
    "from sklearn.preprocessing import MinMaxScaler \n",
    "from sklearn.preprocessing import StandardScaler \n",
    "from sklearn.decomposition import PCA\n",
    "\n",
    "lr = LogisticRegression(solver='newton-cg', multi_class='ovr', n_jobs=1) \n",
    "lda = LinearDiscriminantAnalysis(solver='svd')\n",
    "qda = QuadraticDiscriminantAnalysis()\n",
    "\n",
    "%matplotlib inline"
   ]
  },
  {
   "cell_type": "code",
   "execution_count": 6,
   "metadata": {},
   "outputs": [],
   "source": [
    "df = pd.read_csv('data/ethylene_methane.txt', delim_whitespace=True, skiprows=1, header=None, names=['Time','Methane','Ethylene','1','2','3','4','5','6','7','8','9','10','11','12','13','14','15','16'])"
   ]
  },
  {
   "cell_type": "code",
   "execution_count": 7,
   "metadata": {},
   "outputs": [],
   "source": [
    "Methane_bin = []\n",
    "Ethylene_bin = []\n",
    "\n",
    "for i in df['Methane']:\n",
    "    if i > 0.0: \n",
    "        Methane_bin.append(int(1))\n",
    "    else:\n",
    "        Methane_bin.append(int(0))\n",
    "for i in df['Ethylene']:\n",
    "    if i > 0.0: \n",
    "        Ethylene_bin.append(int(1))\n",
    "    else:\n",
    "        Ethylene_bin.append(int(0))\n",
    "\n",
    "df['Methane Bin'] = Methane_bin\n",
    "df['Ethylene Bin'] = Ethylene_bin"
   ]
  },
  {
   "attachments": {},
   "cell_type": "markdown",
   "metadata": {},
   "source": [
    "\n",
    "# **50/50 Split**\n"
   ]
  },
  {
   "cell_type": "code",
   "execution_count": 8,
   "metadata": {},
   "outputs": [],
   "source": [
    "x1 = df[['1','2','3','4','5','6','7','8','9','10','11','12','13','14','15','16']]\n",
    "y1_meth = df['Methane Bin']\n",
    "y2_ethy = df['Ethylene Bin']\n",
    "\n",
    "\n",
    "x_train_1, x_test_1, y_train_1, y_test_1 = train_test_split(x1, y1_meth, test_size=0.50, random_state=42)\n",
    "\n",
    "x_train_2, x_test_2, y_train_2, y_test_2 = train_test_split(x1, y2_ethy, test_size=0.50, random_state=42)"
   ]
  },
  {
   "attachments": {},
   "cell_type": "markdown",
   "metadata": {},
   "source": [
    "# **LDA 50/50**"
   ]
  },
  {
   "cell_type": "code",
   "execution_count": 9,
   "metadata": {},
   "outputs": [],
   "source": [
    "from sklearn.discriminant_analysis import LinearDiscriminantAnalysis\n",
    "\n",
    "lda = LinearDiscriminantAnalysis(solver='svd')\n",
    "\n",
    "ytest_pred_lda = lda.fit(x_train_1.values, y_train_1.values).predict(x_test_1.values)\n",
    "ytest_pred_lda2 = lda.fit(x_train_2.values, y_train_2.values).predict(x_test_2.values)"
   ]
  },
  {
   "attachments": {},
   "cell_type": "markdown",
   "metadata": {},
   "source": [
    "\n",
    "### Methane LDA model Stats"
   ]
  },
  {
   "cell_type": "code",
   "execution_count": 10,
   "metadata": {},
   "outputs": [
    {
     "name": "stdout",
     "output_type": "stream",
     "text": [
      "Methane Accuracy = 0.9330525948999929\n",
      "\n",
      "\n",
      "Methane LDA model Classification Report\n",
      "              precision    recall  f1-score   support\n",
      "\n",
      "     Methane       0.95      0.93      0.94   1165323\n",
      "  No Methane       0.91      0.94      0.93    923929\n",
      "\n",
      "    accuracy                           0.93   2089252\n",
      "   macro avg       0.93      0.93      0.93   2089252\n",
      "weighted avg       0.93      0.93      0.93   2089252\n",
      "\n",
      "\n",
      "\n",
      "LDA Methane Confusion Matrix\n"
     ]
    },
    {
     "data": {
      "text/html": [
       "<div>\n",
       "<style scoped>\n",
       "    .dataframe tbody tr th:only-of-type {\n",
       "        vertical-align: middle;\n",
       "    }\n",
       "\n",
       "    .dataframe tbody tr th {\n",
       "        vertical-align: top;\n",
       "    }\n",
       "\n",
       "    .dataframe thead th {\n",
       "        text-align: right;\n",
       "    }\n",
       "</style>\n",
       "<table border=\"1\" class=\"dataframe\">\n",
       "  <thead>\n",
       "    <tr style=\"text-align: right;\">\n",
       "      <th>True</th>\n",
       "      <th>No</th>\n",
       "      <th>Yes</th>\n",
       "    </tr>\n",
       "    <tr>\n",
       "      <th>Predicted</th>\n",
       "      <th></th>\n",
       "      <th></th>\n",
       "    </tr>\n",
       "  </thead>\n",
       "  <tbody>\n",
       "    <tr>\n",
       "      <th>No</th>\n",
       "      <td>1084780</td>\n",
       "      <td>59327</td>\n",
       "    </tr>\n",
       "    <tr>\n",
       "      <th>Yes</th>\n",
       "      <td>80543</td>\n",
       "      <td>864602</td>\n",
       "    </tr>\n",
       "  </tbody>\n",
       "</table>\n",
       "</div>"
      ],
      "text/plain": [
       "True            No     Yes\n",
       "Predicted                 \n",
       "No         1084780   59327\n",
       "Yes          80543  864602"
      ]
     },
     "execution_count": 10,
     "metadata": {},
     "output_type": "execute_result"
    }
   ],
   "source": [
    "import sklearn.metrics as sm\n",
    "from sklearn.metrics import confusion_matrix, classification_report, precision_score\n",
    "\n",
    "scor1 = sm.accuracy_score(y_test_1, ytest_pred_lda)\n",
    "print(\"Methane Accuracy = {}\".format(scor1))\n",
    "\n",
    "print(\"\\n\")\n",
    "print(\"Methane LDA model Classification Report\")\n",
    "print(classification_report(y_test_1, ytest_pred_lda, target_names=['Methane', 'No Methane']))\n",
    "\n",
    "print(\"\\n\")\n",
    "print(\"LDA Methane Confusion Matrix\")\n",
    "df3=pd.DataFrame({'True': y_test_1,\n",
    "                    'Predicted': ytest_pred_lda})\n",
    "df3.replace(to_replace={0:'No', 1:'Yes'}, inplace=True)\n",
    "df3.groupby(['Predicted','True']).size().unstack('True')"
   ]
  },
  {
   "attachments": {},
   "cell_type": "markdown",
   "metadata": {},
   "source": [
    "<br>\n",
    "\n",
    "###  Ethylene Model Stats"
   ]
  },
  {
   "cell_type": "code",
   "execution_count": 11,
   "metadata": {},
   "outputs": [
    {
     "name": "stdout",
     "output_type": "stream",
     "text": [
      "Ethylene Accuracy = 0.9049099869235496\n",
      "\n",
      "\n",
      "Ethylene LDA model Classification Report\n",
      "              precision    recall  f1-score   support\n",
      "\n",
      "    Ethylene       0.90      0.94      0.92   1188213\n",
      " No Ethylene       0.91      0.86      0.89    901039\n",
      "\n",
      "    accuracy                           0.90   2089252\n",
      "   macro avg       0.91      0.90      0.90   2089252\n",
      "weighted avg       0.91      0.90      0.90   2089252\n",
      "\n",
      "\n",
      "\n",
      "LDA Ethylene Confusion Matrix\n"
     ]
    },
    {
     "data": {
      "text/html": [
       "<div>\n",
       "<style scoped>\n",
       "    .dataframe tbody tr th:only-of-type {\n",
       "        vertical-align: middle;\n",
       "    }\n",
       "\n",
       "    .dataframe tbody tr th {\n",
       "        vertical-align: top;\n",
       "    }\n",
       "\n",
       "    .dataframe thead th {\n",
       "        text-align: right;\n",
       "    }\n",
       "</style>\n",
       "<table border=\"1\" class=\"dataframe\">\n",
       "  <thead>\n",
       "    <tr style=\"text-align: right;\">\n",
       "      <th>True</th>\n",
       "      <th>No</th>\n",
       "      <th>Yes</th>\n",
       "    </tr>\n",
       "    <tr>\n",
       "      <th>Predicted</th>\n",
       "      <th></th>\n",
       "      <th></th>\n",
       "    </tr>\n",
       "  </thead>\n",
       "  <tbody>\n",
       "    <tr>\n",
       "      <th>No</th>\n",
       "      <td>1114662</td>\n",
       "      <td>125116</td>\n",
       "    </tr>\n",
       "    <tr>\n",
       "      <th>Yes</th>\n",
       "      <td>73551</td>\n",
       "      <td>775923</td>\n",
       "    </tr>\n",
       "  </tbody>\n",
       "</table>\n",
       "</div>"
      ],
      "text/plain": [
       "True            No     Yes\n",
       "Predicted                 \n",
       "No         1114662  125116\n",
       "Yes          73551  775923"
      ]
     },
     "execution_count": 11,
     "metadata": {},
     "output_type": "execute_result"
    }
   ],
   "source": [
    "scor2 = sm.accuracy_score(y_test_2, ytest_pred_lda2)\n",
    "print(\"Ethylene Accuracy = {}\".format(scor2))\n",
    "\n",
    "print(\"\\n\")\n",
    "print(\"Ethylene LDA model Classification Report\")\n",
    "print(classification_report(y_test_2, ytest_pred_lda2, target_names=['Ethylene', 'No Ethylene']))\n",
    "\n",
    "print(\"\\n\")\n",
    "print(\"LDA Ethylene Confusion Matrix\")\n",
    "df4=pd.DataFrame({'True': y_test_2,\n",
    "                    'Predicted': ytest_pred_lda2})\n",
    "df4.replace(to_replace={0:'No', 1:'Yes'}, inplace=True)\n",
    "df4.groupby(['Predicted','True']).size().unstack('True')\n",
    "\n"
   ]
  },
  {
   "attachments": {},
   "cell_type": "markdown",
   "metadata": {},
   "source": [
    "# **QDA 50/50**"
   ]
  },
  {
   "cell_type": "code",
   "execution_count": 12,
   "metadata": {},
   "outputs": [],
   "source": [
    "from sklearn.discriminant_analysis import QuadraticDiscriminantAnalysis\n",
    "\n",
    "qda = QuadraticDiscriminantAnalysis()\n",
    "\n",
    "y_pred_qda1 = qda.fit(x_train_1.values, y_train_1.values).predict(x_test_1.values)\n",
    "y_pred_qda2 = qda.fit(x_train_2.values, y_train_2.values).predict(x_test_2.values)"
   ]
  },
  {
   "attachments": {},
   "cell_type": "markdown",
   "metadata": {},
   "source": [
    "<br>\n",
    "\n",
    "### Methane QDA Model Stats"
   ]
  },
  {
   "cell_type": "code",
   "execution_count": 13,
   "metadata": {},
   "outputs": [
    {
     "name": "stdout",
     "output_type": "stream",
     "text": [
      "Methane QDA model Accuracy = 0.9222793612259316\n",
      "\n",
      "\n",
      "Methane QDA model Classification Report\n",
      "              precision    recall  f1-score   support\n",
      "\n",
      "     Methane       0.95      0.91      0.93   1165323\n",
      "  No Methane       0.89      0.94      0.91    923929\n",
      "\n",
      "    accuracy                           0.92   2089252\n",
      "   macro avg       0.92      0.92      0.92   2089252\n",
      "weighted avg       0.92      0.92      0.92   2089252\n",
      "\n",
      "\n",
      "\n",
      "QDA Methane Confusion Matrix\n"
     ]
    },
    {
     "data": {
      "text/html": [
       "<div>\n",
       "<style scoped>\n",
       "    .dataframe tbody tr th:only-of-type {\n",
       "        vertical-align: middle;\n",
       "    }\n",
       "\n",
       "    .dataframe tbody tr th {\n",
       "        vertical-align: top;\n",
       "    }\n",
       "\n",
       "    .dataframe thead th {\n",
       "        text-align: right;\n",
       "    }\n",
       "</style>\n",
       "<table border=\"1\" class=\"dataframe\">\n",
       "  <thead>\n",
       "    <tr style=\"text-align: right;\">\n",
       "      <th>True</th>\n",
       "      <th>No</th>\n",
       "      <th>Yes</th>\n",
       "    </tr>\n",
       "    <tr>\n",
       "      <th>Predicted</th>\n",
       "      <th></th>\n",
       "      <th></th>\n",
       "    </tr>\n",
       "  </thead>\n",
       "  <tbody>\n",
       "    <tr>\n",
       "      <th>No</th>\n",
       "      <td>1062477</td>\n",
       "      <td>59532</td>\n",
       "    </tr>\n",
       "    <tr>\n",
       "      <th>Yes</th>\n",
       "      <td>102846</td>\n",
       "      <td>864397</td>\n",
       "    </tr>\n",
       "  </tbody>\n",
       "</table>\n",
       "</div>"
      ],
      "text/plain": [
       "True            No     Yes\n",
       "Predicted                 \n",
       "No         1062477   59532\n",
       "Yes         102846  864397"
      ]
     },
     "execution_count": 13,
     "metadata": {},
     "output_type": "execute_result"
    }
   ],
   "source": [
    "qda_scor1 = sm.accuracy_score(y_test_1, y_pred_qda1)\n",
    "print(\"Methane QDA model Accuracy = {}\".format(qda_scor1))\n",
    "\n",
    "print(\"\\n\")\n",
    "print(\"Methane QDA model Classification Report\")\n",
    "print(classification_report(y_test_1, y_pred_qda1, target_names=['Methane', 'No Methane']))\n",
    "\n",
    "print(\"\\n\")\n",
    "print(\"QDA Methane Confusion Matrix\")\n",
    "df3=pd.DataFrame({'True': y_test_1,\n",
    "                    'Predicted': y_pred_qda1})\n",
    "df3.replace(to_replace={0:'No', 1:'Yes'}, inplace=True)\n",
    "df3.groupby(['Predicted','True']).size().unstack('True')"
   ]
  },
  {
   "attachments": {},
   "cell_type": "markdown",
   "metadata": {},
   "source": [
    "<br>\n",
    "\n",
    "### Ethylene QDA Model Stats"
   ]
  },
  {
   "cell_type": "code",
   "execution_count": 14,
   "metadata": {},
   "outputs": [
    {
     "name": "stdout",
     "output_type": "stream",
     "text": [
      "Ethylene QDA model Accuracy = 0.8740788569306144\n",
      "\n",
      "\n",
      "Ethylene QDA model Classification Report\n",
      "              precision    recall  f1-score   support\n",
      "\n",
      "    Ethylene       0.90      0.88      0.89   1188213\n",
      " No Ethylene       0.84      0.87      0.86    901039\n",
      "\n",
      "    accuracy                           0.87   2089252\n",
      "   macro avg       0.87      0.87      0.87   2089252\n",
      "weighted avg       0.88      0.87      0.87   2089252\n",
      "\n",
      "\n",
      "\n",
      "QDA Ethylene Confusion Matrix\n"
     ]
    },
    {
     "data": {
      "text/html": [
       "<div>\n",
       "<style scoped>\n",
       "    .dataframe tbody tr th:only-of-type {\n",
       "        vertical-align: middle;\n",
       "    }\n",
       "\n",
       "    .dataframe tbody tr th {\n",
       "        vertical-align: top;\n",
       "    }\n",
       "\n",
       "    .dataframe thead th {\n",
       "        text-align: right;\n",
       "    }\n",
       "</style>\n",
       "<table border=\"1\" class=\"dataframe\">\n",
       "  <thead>\n",
       "    <tr style=\"text-align: right;\">\n",
       "      <th>True</th>\n",
       "      <th>No</th>\n",
       "      <th>Yes</th>\n",
       "    </tr>\n",
       "    <tr>\n",
       "      <th>Predicted</th>\n",
       "      <th></th>\n",
       "      <th></th>\n",
       "    </tr>\n",
       "  </thead>\n",
       "  <tbody>\n",
       "    <tr>\n",
       "      <th>No</th>\n",
       "      <td>1039990</td>\n",
       "      <td>114858</td>\n",
       "    </tr>\n",
       "    <tr>\n",
       "      <th>Yes</th>\n",
       "      <td>148223</td>\n",
       "      <td>786181</td>\n",
       "    </tr>\n",
       "  </tbody>\n",
       "</table>\n",
       "</div>"
      ],
      "text/plain": [
       "True            No     Yes\n",
       "Predicted                 \n",
       "No         1039990  114858\n",
       "Yes         148223  786181"
      ]
     },
     "execution_count": 14,
     "metadata": {},
     "output_type": "execute_result"
    }
   ],
   "source": [
    "qda_scor2 = sm.accuracy_score(y_test_2, y_pred_qda2)\n",
    "print(\"Ethylene QDA model Accuracy = {}\".format(qda_scor2))\n",
    "\n",
    "print(\"\\n\")\n",
    "print(\"Ethylene QDA model Classification Report\")\n",
    "print(classification_report(y_test_2, y_pred_qda2, target_names=['Ethylene', 'No Ethylene']))\n",
    "\n",
    "print(\"\\n\")\n",
    "print(\"QDA Ethylene Confusion Matrix\")\n",
    "df4=pd.DataFrame({'True': y_test_2,\n",
    "                    'Predicted': y_pred_qda2})\n",
    "df4.replace(to_replace={0:'No', 1:'Yes'}, inplace=True)\n",
    "df4.groupby(['Predicted','True']).size().unstack('True')"
   ]
  },
  {
   "attachments": {},
   "cell_type": "markdown",
   "metadata": {},
   "source": [
    "<br>\n",
    "<br>\n",
    "<br>\n",
    "<br>\n"
   ]
  },
  {
   "attachments": {},
   "cell_type": "markdown",
   "metadata": {},
   "source": [
    "# Logistic Regression 50/50"
   ]
  },
  {
   "cell_type": "code",
   "execution_count": 15,
   "metadata": {},
   "outputs": [],
   "source": [
    "import sklearn.linear_model as sk_lm\n",
    "lr = sk_lm.LogisticRegression(solver='newton-cg', multi_class='ovr', n_jobs=1) \n",
    "\n",
    "#Methane Fit\n",
    "y_pred_lr1 = lr.fit(x_train_1.values, y_train_1.values).predict(x_test_1.values)  \n",
    "#Ethylene Fit\n",
    "y_pred_lr2 = lr.fit(x_train_2.values, y_train_2.values).predict(x_test_2.values) "
   ]
  },
  {
   "attachments": {},
   "cell_type": "markdown",
   "metadata": {},
   "source": [
    "<br>\n",
    "\n",
    "### Methane Logistic Regression Model Stats"
   ]
  },
  {
   "cell_type": "code",
   "execution_count": 16,
   "metadata": {},
   "outputs": [
    {
     "name": "stdout",
     "output_type": "stream",
     "text": [
      "Methane Logistic Regression model Accuracy = 0.9403140454095533\n",
      "\n",
      "\n",
      "Methane Logistic Regression model Classification Report\n",
      "              precision    recall  f1-score   support\n",
      "\n",
      "     Methane       0.95      0.94      0.95   1165323\n",
      "  No Methane       0.93      0.94      0.93    923929\n",
      "\n",
      "    accuracy                           0.94   2089252\n",
      "   macro avg       0.94      0.94      0.94   2089252\n",
      "weighted avg       0.94      0.94      0.94   2089252\n",
      "\n",
      "\n",
      "\n",
      "Logistic Regression Methane Confusion Matrix\n"
     ]
    },
    {
     "data": {
      "text/html": [
       "<div>\n",
       "<style scoped>\n",
       "    .dataframe tbody tr th:only-of-type {\n",
       "        vertical-align: middle;\n",
       "    }\n",
       "\n",
       "    .dataframe tbody tr th {\n",
       "        vertical-align: top;\n",
       "    }\n",
       "\n",
       "    .dataframe thead th {\n",
       "        text-align: right;\n",
       "    }\n",
       "</style>\n",
       "<table border=\"1\" class=\"dataframe\">\n",
       "  <thead>\n",
       "    <tr style=\"text-align: right;\">\n",
       "      <th>True</th>\n",
       "      <th>No</th>\n",
       "      <th>Yes</th>\n",
       "    </tr>\n",
       "    <tr>\n",
       "      <th>Predicted</th>\n",
       "      <th></th>\n",
       "      <th></th>\n",
       "    </tr>\n",
       "  </thead>\n",
       "  <tbody>\n",
       "    <tr>\n",
       "      <th>No</th>\n",
       "      <td>1099994</td>\n",
       "      <td>59370</td>\n",
       "    </tr>\n",
       "    <tr>\n",
       "      <th>Yes</th>\n",
       "      <td>65329</td>\n",
       "      <td>864559</td>\n",
       "    </tr>\n",
       "  </tbody>\n",
       "</table>\n",
       "</div>"
      ],
      "text/plain": [
       "True            No     Yes\n",
       "Predicted                 \n",
       "No         1099994   59370\n",
       "Yes          65329  864559"
      ]
     },
     "execution_count": 16,
     "metadata": {},
     "output_type": "execute_result"
    }
   ],
   "source": [
    "lr_scor1 = sm.accuracy_score(y_test_1, y_pred_lr1)\n",
    "print(\"Methane Logistic Regression model Accuracy = {}\".format(lr_scor1))\n",
    "\n",
    "print(\"\\n\")\n",
    "print(\"Methane Logistic Regression model Classification Report\")\n",
    "print(classification_report(y_test_1, y_pred_lr1, target_names=['Methane', 'No Methane']))\n",
    "\n",
    "print(\"\\n\")\n",
    "print(\"Logistic Regression Methane Confusion Matrix\")\n",
    "df3=pd.DataFrame({'True': y_test_1,\n",
    "                    'Predicted': y_pred_lr1})\n",
    "df3.replace(to_replace={0:'No', 1:'Yes'}, inplace=True)\n",
    "df3.groupby(['Predicted','True']).size().unstack('True')"
   ]
  },
  {
   "attachments": {},
   "cell_type": "markdown",
   "metadata": {},
   "source": [
    "<br>\n",
    "\n",
    "### Ethylene Logistic Regression Model Stats"
   ]
  },
  {
   "cell_type": "code",
   "execution_count": 17,
   "metadata": {},
   "outputs": [
    {
     "name": "stdout",
     "output_type": "stream",
     "text": [
      "Ethylene Logistic Regression model Accuracy = 0.9130837256587525\n",
      "\n",
      "\n",
      "Ethylene Logistic Regression model Classification Report\n",
      "              precision    recall  f1-score   support\n",
      "\n",
      "    Ethylene       0.91      0.94      0.93   1188213\n",
      " No Ethylene       0.92      0.87      0.90    901039\n",
      "\n",
      "    accuracy                           0.91   2089252\n",
      "   macro avg       0.91      0.91      0.91   2089252\n",
      "weighted avg       0.91      0.91      0.91   2089252\n",
      "\n",
      "\n",
      "\n",
      "Logistic Regression Ethylene Confusion Matrix\n"
     ]
    },
    {
     "data": {
      "text/html": [
       "<div>\n",
       "<style scoped>\n",
       "    .dataframe tbody tr th:only-of-type {\n",
       "        vertical-align: middle;\n",
       "    }\n",
       "\n",
       "    .dataframe tbody tr th {\n",
       "        vertical-align: top;\n",
       "    }\n",
       "\n",
       "    .dataframe thead th {\n",
       "        text-align: right;\n",
       "    }\n",
       "</style>\n",
       "<table border=\"1\" class=\"dataframe\">\n",
       "  <thead>\n",
       "    <tr style=\"text-align: right;\">\n",
       "      <th>True</th>\n",
       "      <th>No</th>\n",
       "      <th>Yes</th>\n",
       "    </tr>\n",
       "    <tr>\n",
       "      <th>Predicted</th>\n",
       "      <th></th>\n",
       "      <th></th>\n",
       "    </tr>\n",
       "  </thead>\n",
       "  <tbody>\n",
       "    <tr>\n",
       "      <th>No</th>\n",
       "      <td>1121377</td>\n",
       "      <td>114754</td>\n",
       "    </tr>\n",
       "    <tr>\n",
       "      <th>Yes</th>\n",
       "      <td>66836</td>\n",
       "      <td>786285</td>\n",
       "    </tr>\n",
       "  </tbody>\n",
       "</table>\n",
       "</div>"
      ],
      "text/plain": [
       "True            No     Yes\n",
       "Predicted                 \n",
       "No         1121377  114754\n",
       "Yes          66836  786285"
      ]
     },
     "execution_count": 17,
     "metadata": {},
     "output_type": "execute_result"
    }
   ],
   "source": [
    "lr_scor2 = sm.accuracy_score(y_test_2, y_pred_lr2)\n",
    "print(\"Ethylene Logistic Regression model Accuracy = {}\".format(lr_scor2))\n",
    "\n",
    "print(\"\\n\")\n",
    "print(\"Ethylene Logistic Regression model Classification Report\")\n",
    "print(classification_report(y_test_2, y_pred_lr2, target_names=['Ethylene', 'No Ethylene']))\n",
    "\n",
    "print(\"\\n\")\n",
    "print(\"Logistic Regression Ethylene Confusion Matrix\")\n",
    "df4=pd.DataFrame({'True': y_test_2,\n",
    "                    'Predicted': y_pred_lr2})\n",
    "df4.replace(to_replace={0:'No', 1:'Yes'}, inplace=True)\n",
    "df4.groupby(['Predicted','True']).size().unstack('True')"
   ]
  },
  {
   "attachments": {},
   "cell_type": "markdown",
   "metadata": {},
   "source": [
    "<br>\n",
    "<br>\n",
    "<br>\n",
    "<br>\n",
    "\n",
    "# Preprocessing\n",
    "We see that sensor2 is not functioning properly so we will eliminate it. We will also eliminate the first chunk of time where the sensor is actualizing as seen in the plot above. We will eliminate the first 200 seconds\n"
   ]
  },
  {
   "cell_type": "code",
   "execution_count": 18,
   "metadata": {},
   "outputs": [
    {
     "name": "stderr",
     "output_type": "stream",
     "text": [
      "No artists with labels found to put in legend.  Note that artists whose label start with an underscore are ignored when legend() is called with no argument.\n"
     ]
    },
    {
     "data": {
      "text/plain": [
       "Text(0.5, 1.0, 'Conductivity vs Time')"
      ]
     },
     "execution_count": 18,
     "metadata": {},
     "output_type": "execute_result"
    },
    {
     "data": {
      "image/png": "[encoded data removed]",
      "text/plain": [
       "<Figure size 1600x400 with 1 Axes>"
      ]
     },
     "metadata": {},
     "output_type": "display_data"
    }
   ],
   "source": [
    "df2 = df.drop(columns='2')\n",
    "df3 = df2[20000:]\n",
    "plt.figure(figsize=(16,4))\n",
    "a = np.arange(100000)\n",
    "plt.plot(df2['Time'][a], df['1'][a])\n",
    "plt.plot(df2['Time'][a], df['3'][a])\n",
    "plt.plot(df2['Time'][a], df['4'][a])\n",
    "plt.plot(df2['Time'][a], df['5'][a])\n",
    "plt.plot(df2['Time'][a], df['6'][a])\n",
    "plt.plot(df2['Time'][a], df['7'][a])\n",
    "plt.plot(df2['Time'][a], df['Methane'][a])\n",
    "plt.plot(df2['Time'][a], df['Ethylene'][a])\n",
    "\n",
    "plt.xlabel('Time (seconds)')\n",
    "plt.ylabel('Conductivity (S)')\n",
    "\n",
    "plt.legend(loc='upper left', title =\"Sensor\")\n",
    "plt.title('Conductivity vs Time')"
   ]
  },
  {
   "cell_type": "code",
   "execution_count": 19,
   "metadata": {},
   "outputs": [
    {
     "name": "stdout",
     "output_type": "stream",
     "text": [
      "Methane LDA Accuracy = 0.9390203784822619\n",
      "Ethylene LDA Accuracy = 0.9044925771383171\n",
      "Methane QDA Accuracy = 0.9295770786802177\n",
      "Ethylene QDA Accuracy = 0.8857002422024843\n",
      "Methane Logistic Regression Accuracy = 0.9436619515094852\n",
      "Ethylene Logistic Regression Accuracy = 0.9124920885010571\n"
     ]
    },
    {
     "ename": "",
     "evalue": "",
     "output_type": "error",
     "traceback": [
      "\u001b[1;31mThe Kernel crashed while executing code in the the current cell or a previous cell. Please review the code in the cell(s) to identify a possible cause of the failure. Click <a href='https://aka.ms/vscodeJupyterKernelCrash'>here</a> for more info. View Jupyter <a href='command:jupyter.viewOutput'>log</a> for further details."
     ]
    }
   ],
   "source": [
    "from sklearn.preprocessing import StandardScaler\n",
    "\n",
    "x2 = StandardScaler().fit(df3[['1','3','4','5','6','7','8','9','10','11','12','13','14','15','16']].values)\n",
    "x2 = x2.transform(df3[['1','3','4','5','6','7','8','9','10','11','12','13','14','15','16']].values)\n",
    "ym2 = df3['Methane Bin'].values.reshape(-1,1)\n",
    "ye2 = df3['Ethylene Bin'].values.reshape(-1,1)\n",
    "y2 = np.concatenate((ym2, ye2), axis=1)\n",
    "x2_train, x2_test, ym2_train, ym2_test, ye2_train, ye2_test= train_test_split(x2, ym2, ye2, test_size=0.50, random_state=42)\n",
    "\n",
    "ymtest_pred_lda = lda.fit(x2_train, ym2_train).predict(x2_test)\n",
    "yetest_pred_lda = lda.fit(x2_train, ye2_train).predict(x2_test)\n",
    "\n",
    "print(\"Methane LDA Accuracy = {}\".format(sm.accuracy_score(ym2_test, ymtest_pred_lda)))\n",
    "print(\"Ethylene LDA Accuracy = {}\".format(sm.accuracy_score(ye2_test, yetest_pred_lda)))\n",
    "\n",
    "from sklearn.discriminant_analysis import QuadraticDiscriminantAnalysis\n",
    "\n",
    "qda = QuadraticDiscriminantAnalysis()\n",
    "\n",
    "ymtest_pred_qda = qda.fit(x2_train, ym2_train).predict(x2_test)\n",
    "yetest_pred_qda = qda.fit(x2_train, ye2_train).predict(x2_test)\n",
    "\n",
    "print(\"Methane QDA Accuracy = {}\".format(sm.accuracy_score(ym2_test, ymtest_pred_qda)))\n",
    "print(\"Ethylene QDA Accuracy = {}\".format(sm.accuracy_score(ye2_test, yetest_pred_qda)))\n",
    "\n",
    "import sklearn.linear_model as sk_lm\n",
    "lr = sk_lm.LogisticRegression(solver='newton-cg', multi_class='ovr', n_jobs=1) \n",
    "\n",
    "\n",
    "ymtest_pred_lr = lr.fit(x2_train, ym2_train).predict(x2_test)\n",
    "yetest_pred_lr = lr.fit(x2_train, ye2_train).predict(x2_test)\n",
    "\n",
    "print(\"Methane Logistic Regression Accuracy = {}\".format(sm.accuracy_score(ym2_test, ymtest_pred_lr)))\n",
    "print(\"Ethylene Logistic Regression Accuracy = {}\".format(sm.accuracy_score(ye2_test, yetest_pred_lr)))\n"
   ]
  }
 ],
 "metadata": {
  "kernelspec": {
   "display_name": "Python 3 (ipykernel)",
   "language": "python",
   "name": "python3"
  },
  "language_info": {
   "codemirror_mode": {
    "name": "ipython",
    "version": 3
   },
   "file_extension": ".py",
   "mimetype": "text/x-python",
   "name": "python",
   "nbconvert_exporter": "python",
   "pygments_lexer": "ipython3",
   "version": "3.9.13"
  }
 },
 "nbformat": 4,
 "nbformat_minor": 4
}
