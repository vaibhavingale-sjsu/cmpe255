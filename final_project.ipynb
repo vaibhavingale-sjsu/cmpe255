{
 "cells": [
  {
   "cell_type": "code",
   "execution_count": null,
   "metadata": {},
   "outputs": [],
   "source": [
    "import warnings\n",
    "warnings.filterwarnings('ignore')\n",
    "import pandas as pd\n",
    "import numpy as np\n",
    "from sklearn.model_selection import cross_val_predict\n",
    "import sklearn.metrics as sm\n",
    "from sklearn.metrics import confusion_matrix\n",
    "from sklearn.metrics import precision_score, recall_score\n",
    "from sklearn.metrics import classification_report as cr\n",
    "from sklearn.metrics import f1_score\n",
    "from sklearn.neighbors import KNeighborsClassifier\n",
    "from sklearn.linear_model import LinearRegression, LogisticRegression\n",
    "import sklearn.model_selection as sms\n",
    "import matplotlib.pyplot as plt\n",
    "from sklearn.discriminant_analysis import LinearDiscriminantAnalysis, QuadraticDiscriminantAnalysis\n",
    "from sklearn.metrics import roc_curve\n",
    "import matplotlib.pyplot as plt\n",
    "from sklearn.model_selection import train_test_split\n",
    "from sklearn.preprocessing import MinMaxScaler \n",
    "from sklearn.preprocessing import StandardScaler \n",
    "from sklearn.decomposition import PCA\n",
    "\n",
    "lr = LogisticRegression(solver='newton-cg', multi_class='ovr', n_jobs=1) \n",
    "lda = LinearDiscriminantAnalysis(solver='svd')\n",
    "qda = QuadraticDiscriminantAnalysis()\n",
    "\n",
    "%matplotlib inline"
   ]
  },
  {
   "cell_type": "code",
   "execution_count": null,
   "metadata": {},
   "outputs": [],
   "source": [
    "df = pd.read_csv('data/ethylene_methane.txt', delim_whitespace=True, skiprows=1, header=None, names=['Time','Methane','Ethylene','1','2','3','4','5','6','7','8','9','10','11','12','13','14','15','16'])"
   ]
  },
  {
   "cell_type": "code",
   "execution_count": null,
   "metadata": {},
   "outputs": [],
   "source": [
    "Methane_bin = []\n",
    "Ethylene_bin = []\n",
    "\n",
    "for i in df['Methane']:\n",
    "    if i > 0.0: \n",
    "        Methane_bin.append(int(1))\n",
    "    else:\n",
    "        Methane_bin.append(int(0))\n",
    "for i in df['Ethylene']:\n",
    "    if i > 0.0: \n",
    "        Ethylene_bin.append(int(1))\n",
    "    else:\n",
    "        Ethylene_bin.append(int(0))\n",
    "\n",
    "df['Methane Bin'] = Methane_bin\n",
    "df['Ethylene Bin'] = Ethylene_bin"
   ]
  },
  {
   "attachments": {},
   "cell_type": "markdown",
   "metadata": {},
   "source": [
    "\n",
    "# **50/50 Split**\n"
   ]
  },
  {
   "cell_type": "code",
   "execution_count": null,
   "metadata": {},
   "outputs": [],
   "source": [
    "x1 = df[['1','2','3','4','5','6','7','8','9','10','11','12','13','14','15','16']]\n",
    "y1_meth = df['Methane Bin']\n",
    "y2_ethy = df['Ethylene Bin']\n",
    "\n",
    "\n",
    "x_train_1, x_test_1, y_train_1, y_test_1 = train_test_split(x1, y1_meth, test_size=0.20, random_state=42)\n",
    "x_train_2, x_test_2, y_train_2, y_test_2 = train_test_split(x1, y2_ethy, test_size=0.20, random_state=42)"
   ]
  },
  {
   "attachments": {},
   "cell_type": "markdown",
   "metadata": {},
   "source": [
    "# **LDA 50/50**"
   ]
  },
  {
   "cell_type": "code",
   "execution_count": null,
   "metadata": {},
   "outputs": [],
   "source": [
    "from sklearn.discriminant_analysis import LinearDiscriminantAnalysis\n",
    "\n",
    "lda = LinearDiscriminantAnalysis(solver='svd')\n",
    "\n",
    "ytest_pred_lda = lda.fit(x_train_1.values, y_train_1.values).predict(x_test_1.values)\n",
    "ytest_pred_lda2 = lda.fit(x_train_2.values, y_train_2.values).predict(x_test_2.values)"
   ]
  },
  {
   "attachments": {},
   "cell_type": "markdown",
   "metadata": {},
   "source": [
    "\n",
    "### Methane LDA model Stats"
   ]
  },
  {
   "cell_type": "code",
   "execution_count": null,
   "metadata": {},
   "outputs": [],
   "source": [
    "import sklearn.metrics as sm\n",
    "from sklearn.metrics import confusion_matrix, classification_report, precision_score\n",
    "\n",
    "scor1 = sm.accuracy_score(y_test_1, ytest_pred_lda)\n",
    "print(\"Methane Accuracy = {}\".format(scor1))\n",
    "\n",
    "print(\"\\n\")\n",
    "print(\"Methane LDA model Classification Report\")\n",
    "print(classification_report(y_test_1, ytest_pred_lda, target_names=['Methane', 'No Methane']))\n",
    "\n",
    "print(\"\\n\")\n",
    "print(\"LDA Methane Confusion Matrix\")\n",
    "df3=pd.DataFrame({'True': y_test_1,\n",
    "                    'Predicted': ytest_pred_lda})\n",
    "df3.replace(to_replace={0:'No', 1:'Yes'}, inplace=True)\n",
    "df3.groupby(['Predicted','True']).size().unstack('True')"
   ]
  },
  {
   "attachments": {},
   "cell_type": "markdown",
   "metadata": {},
   "source": [
    "<br>\n",
    "\n",
    "###  Ethylene Model Stats"
   ]
  },
  {
   "cell_type": "code",
   "execution_count": null,
   "metadata": {},
   "outputs": [],
   "source": [
    "scor2 = sm.accuracy_score(y_test_2, ytest_pred_lda2)\n",
    "print(\"Ethylene Accuracy = {}\".format(scor2))\n",
    "\n",
    "print(\"\\n\")\n",
    "print(\"Ethylene LDA model Classification Report\")\n",
    "print(classification_report(y_test_2, ytest_pred_lda2, target_names=['Ethylene', 'No Ethylene']))\n",
    "\n",
    "print(\"\\n\")\n",
    "print(\"LDA Ethylene Confusion Matrix\")\n",
    "df4=pd.DataFrame({'True': y_test_2,\n",
    "                    'Predicted': ytest_pred_lda2})\n",
    "df4.replace(to_replace={0:'No', 1:'Yes'}, inplace=True)\n",
    "df4.groupby(['Predicted','True']).size().unstack('True')\n",
    "\n"
   ]
  },
  {
   "attachments": {},
   "cell_type": "markdown",
   "metadata": {},
   "source": [
    "# **QDA 50/50**"
   ]
  },
  {
   "cell_type": "code",
   "execution_count": null,
   "metadata": {},
   "outputs": [],
   "source": [
    "from sklearn.discriminant_analysis import QuadraticDiscriminantAnalysis\n",
    "\n",
    "qda = QuadraticDiscriminantAnalysis()\n",
    "\n",
    "y_pred_qda1 = qda.fit(x_train_1.values, y_train_1.values).predict(x_test_1.values)\n",
    "y_pred_qda2 = qda.fit(x_train_2.values, y_train_2.values).predict(x_test_2.values)"
   ]
  },
  {
   "attachments": {},
   "cell_type": "markdown",
   "metadata": {},
   "source": [
    "<br>\n",
    "\n",
    "### Methane QDA Model Stats"
   ]
  },
  {
   "cell_type": "code",
   "execution_count": null,
   "metadata": {},
   "outputs": [],
   "source": [
    "qda_scor1 = sm.accuracy_score(y_test_1, y_pred_qda1)\n",
    "print(\"Methane QDA model Accuracy = {}\".format(qda_scor1))\n",
    "\n",
    "print(\"\\n\")\n",
    "print(\"Methane QDA model Classification Report\")\n",
    "print(classification_report(y_test_1, y_pred_qda1, target_names=['Methane', 'No Methane']))\n",
    "\n",
    "print(\"\\n\")\n",
    "print(\"QDA Methane Confusion Matrix\")\n",
    "df3=pd.DataFrame({'True': y_test_1,\n",
    "                    'Predicted': y_pred_qda1})\n",
    "df3.replace(to_replace={0:'No', 1:'Yes'}, inplace=True)\n",
    "df3.groupby(['Predicted','True']).size().unstack('True')"
   ]
  },
  {
   "attachments": {},
   "cell_type": "markdown",
   "metadata": {},
   "source": [
    "<br>\n",
    "\n",
    "### Ethylene QDA Model Stats"
   ]
  },
  {
   "cell_type": "code",
   "execution_count": null,
   "metadata": {},
   "outputs": [],
   "source": [
    "qda_scor2 = sm.accuracy_score(y_test_2, y_pred_qda2)\n",
    "print(\"Ethylene QDA model Accuracy = {}\".format(qda_scor2))\n",
    "\n",
    "print(\"\\n\")\n",
    "print(\"Ethylene QDA model Classification Report\")\n",
    "print(classification_report(y_test_2, y_pred_qda2, target_names=['Ethylene', 'No Ethylene']))\n",
    "\n",
    "print(\"\\n\")\n",
    "print(\"QDA Ethylene Confusion Matrix\")\n",
    "df4=pd.DataFrame({'True': y_test_2,\n",
    "                    'Predicted': y_pred_qda2})\n",
    "df4.replace(to_replace={0:'No', 1:'Yes'}, inplace=True)\n",
    "df4.groupby(['Predicted','True']).size().unstack('True')"
   ]
  },
  {
   "attachments": {},
   "cell_type": "markdown",
   "metadata": {},
   "source": [
    "<br>\n",
    "<br>\n",
    "<br>\n",
    "<br>\n"
   ]
  },
  {
   "attachments": {},
   "cell_type": "markdown",
   "metadata": {},
   "source": [
    "**Logistic Regression 50/50**"
   ]
  },
  {
   "cell_type": "code",
   "execution_count": null,
   "metadata": {},
   "outputs": [],
   "source": [
    "import sklearn.linear_model as sk_lm\n",
    "lr = sk_lm.LogisticRegression(solver='newton-cg', multi_class='ovr', n_jobs=1) \n",
    "\n",
    "#Methane Fit\n",
    "y_pred_lr1 = lr.fit(x_train_1.values, y_train_1.values).predict(x_test_1.values)  "
   ]
  },
  {
   "cell_type": "code",
   "execution_count": null,
   "metadata": {},
   "outputs": [],
   "source": [
    "#Ethylene Fit\n",
    "y_pred_lr2 = lr.fit(x_train_2.values, y_train_2.values).predict(x_test_2.values) "
   ]
  },
  {
   "attachments": {},
   "cell_type": "markdown",
   "metadata": {},
   "source": [
    "<br>\n",
    "Methane Logistic Regression Model Stats"
   ]
  },
  {
   "cell_type": "code",
   "execution_count": null,
   "metadata": {},
   "outputs": [],
   "source": [
    "lr_scor1 = sm.accuracy_score(y_test_1, y_pred_lr1)\n",
    "print(\"Methane Logistic Regression model Accuracy = {}\".format(lr_scor1))\n",
    "\n",
    "print(\"\\n\")\n",
    "print(\"Methane Logistic Regression model Classification Report\")\n",
    "print(classification_report(y_test_1, y_pred_lr1, target_names=['Methane', 'No Methane']))\n",
    "\n",
    "print(\"\\n\")\n",
    "print(\"Logistic Regression Methane Confusion Matrix\")\n",
    "df3=pd.DataFrame({'True': y_test_1,\n",
    "                    'Predicted': y_pred_lr1})\n",
    "df3.replace(to_replace={0:'No', 1:'Yes'}, inplace=True)\n",
    "df3.groupby(['Predicted','True']).size().unstack('True')"
   ]
  },
  {
   "attachments": {},
   "cell_type": "markdown",
   "metadata": {},
   "source": [
    "<br>\n",
    "Ethylene Logistic Regression Model Stats"
   ]
  },
  {
   "cell_type": "code",
   "execution_count": null,
   "metadata": {},
   "outputs": [],
   "source": [
    "lr_scor2 = sm.accuracy_score(y_test_2, y_pred_lr2)\n",
    "print(\"Ethylene Logistic Regression model Accuracy = {}\".format(lr_scor2))\n",
    "\n",
    "print(\"\\n\")\n",
    "print(\"Ethylene Logistic Regression model Classification Report\")\n",
    "print(classification_report(y_test_2, y_pred_lr2, target_names=['Ethylene', 'No Ethylene']))\n",
    "\n",
    "print(\"\\n\")\n",
    "print(\"Logistic Regression Ethylene Confusion Matrix\")\n",
    "df4=pd.DataFrame({'True': y_test_2,\n",
    "                    'Predicted': y_pred_lr2})\n",
    "df4.replace(to_replace={0:'No', 1:'Yes'}, inplace=True)\n",
    "df4.groupby(['Predicted','True']).size().unstack('True')"
   ]
  },
  {
   "attachments": {},
   "cell_type": "markdown",
   "metadata": {},
   "source": [
    "\n",
    "\n"
   ]
  },
  {
   "attachments": {},
   "cell_type": "markdown",
   "metadata": {},
   "source": [
    "\n"
   ]
  },
  {
   "attachments": {},
   "cell_type": "markdown",
   "metadata": {},
   "source": [
    "<br>\n",
    "<br>\n",
    "<br>\n",
    "<br>\n",
    "\n",
    "# Preprocessing"
   ]
  },
  {
   "attachments": {},
   "cell_type": "markdown",
   "metadata": {},
   "source": [
    "We see that sensor2 is not functioning properly so we will eliminate it. We will also eliminate the first chunk of time where the sensor is actualizing as seen in the plot above. We will eliminate the first 200 seconds"
   ]
  },
  {
   "cell_type": "code",
   "execution_count": null,
   "metadata": {},
   "outputs": [],
   "source": [
    "df2 = df.drop(columns='2')\n",
    "df3 = df2[20000:]"
   ]
  },
  {
   "cell_type": "code",
   "execution_count": null,
   "metadata": {},
   "outputs": [],
   "source": [
    "plt.figure(figsize=(16,4))\n",
    "a = np.arange(100000)\n",
    "plt.plot(df2['Time'][a], df['1'][a])\n",
    "plt.plot(df2['Time'][a], df['3'][a])\n",
    "plt.plot(df2['Time'][a], df['4'][a])\n",
    "plt.plot(df2['Time'][a], df['5'][a])\n",
    "plt.plot(df2['Time'][a], df['6'][a])\n",
    "plt.plot(df2['Time'][a], df['7'][a])\n",
    "plt.plot(df2['Time'][a], df['Methane'][a])\n",
    "plt.plot(df2['Time'][a], df['Ethylene'][a])\n",
    "\n",
    "plt.xlabel('Time (seconds)')\n",
    "plt.ylabel('Conductivity (S)')\n",
    "\n",
    "# plt.axis(xmin=0, xmax=1000)\n",
    "plt.legend(loc='upper left', title =\"Sensor\")\n"
   ]
  },
  {
   "cell_type": "code",
   "execution_count": null,
   "metadata": {},
   "outputs": [],
   "source": [
    "from sklearn.preprocessing import StandardScaler\n",
    "\n",
    "x2 = StandardScaler().fit(df3[['1','3','4','5','6','7','8','9','10','11','12','13','14','15','16']].values)\n",
    "x2 = x2.transform(df3[['1','3','4','5','6','7','8','9','10','11','12','13','14','15','16']].values)\n",
    "ym2 = df3['Methane Bin'].values.reshape(-1,1)\n",
    "ye2 = df3['Ethylene Bin'].values.reshape(-1,1)\n",
    "y2 = np.concatenate((ym2, ye2), axis=1)\n",
    "x2_train, x2_test, ym2_train, ym2_test, ye2_train, ye2_test= train_test_split(x2, ym2, ye2, test_size=0.50, random_state=42)\n"
   ]
  },
  {
   "cell_type": "code",
   "execution_count": null,
   "metadata": {},
   "outputs": [],
   "source": [
    "ymtest_pred_lda = lda.fit(x2_train, ym2_train).predict(x2_test)\n",
    "yetest_pred_lda = lda.fit(x2_train, ye2_train).predict(x2_test)\n",
    "\n",
    "print(\"Methane LDA Accuracy = {}\".format(sm.accuracy_score(ym2_test, ymtest_pred_lda)))\n",
    "print(\"Ethylene LDA Accuracy = {}\".format(sm.accuracy_score(ye2_test, yetest_pred_lda)))\n"
   ]
  },
  {
   "cell_type": "code",
   "execution_count": null,
   "metadata": {},
   "outputs": [],
   "source": [
    "from sklearn.discriminant_analysis import QuadraticDiscriminantAnalysis\n",
    "\n",
    "qda = QuadraticDiscriminantAnalysis()\n",
    "\n",
    "ymtest_pred_qda = qda.fit(x2_train, ym2_train).predict(x2_test)\n",
    "yetest_pred_qda = qda.fit(x2_train, ye2_train).predict(x2_test)\n",
    "\n",
    "print(\"Methane QDA Accuracy = {}\".format(sm.accuracy_score(ym2_test, ymtest_pred_qda)))\n",
    "print(\"Ethylene QDA Accuracy = {}\".format(sm.accuracy_score(ye2_test, yetest_pred_qda)))\n"
   ]
  },
  {
   "cell_type": "code",
   "execution_count": null,
   "metadata": {},
   "outputs": [],
   "source": [
    "import sklearn.linear_model as sk_lm\n",
    "lr = sk_lm.LogisticRegression(solver='newton-cg', multi_class='ovr', n_jobs=1) \n",
    "\n",
    "\n",
    "ymtest_pred_lr = lr.fit(x2_train, ym2_train).predict(x2_test)\n",
    "yetest_pred_lr = lr.fit(x2_train, ye2_train).predict(x2_test)\n",
    "\n",
    "print(\"Methane Logistic Regression Accuracy = {}\".format(sm.accuracy_score(ym2_test, ymtest_pred_lr)))\n",
    "print(\"Ethylene Logistic Regression Accuracy = {}\".format(sm.accuracy_score(ye2_test, yetest_pred_lr)))\n"
   ]
  },
  {
   "attachments": {},
   "cell_type": "markdown",
   "metadata": {},
   "source": [
    "<br>\n",
    "<br>\n",
    "<br>\n",
    "\n",
    "# Cross validation analysis"
   ]
  },
  {
   "cell_type": "code",
   "execution_count": null,
   "metadata": {},
   "outputs": [],
   "source": [
    "from sklearn.model_selection import cross_val_score as cvs\n",
    "from sklearn.model_selection import KFold\n",
    "\n",
    "kf2 = KFold(n_splits = 2)\n",
    "kf5 = KFold(n_splits = 5)\n",
    "\n",
    "k2_acc = cvs(lda, x2, ym2, cv = kf2, scoring = \"accuracy\")\n",
    "k5_acc = cvs(lda, x2, ym2, cv = kf5, scoring = \"accuracy\")\n",
    "print(\"LDA Model accuracy running cross validation with two k-folds:\", k2_acc)\n",
    "print(\"LDA Model accuracy running cross validation with five k-folds:\", k5_acc)\n",
    "\n",
    "kf2 = KFold(n_splits = 2)\n",
    "kf5 = KFold(n_splits = 5)\n",
    "k2_acc = cvs(lda, x2, ye2, cv = kf2, scoring = \"accuracy\")\n",
    "k5_acc = cvs(lda, x2, ye2, cv = kf5, scoring = \"accuracy\")\n",
    "print(\"LDA Model accuracy running cross validation with two k-folds:\", k2_acc)\n",
    "print(\"LDA Model accuracy running cross validation with five k-folds:\", k5_acc)"
   ]
  },
  {
   "cell_type": "code",
   "execution_count": null,
   "metadata": {},
   "outputs": [],
   "source": [
    "kf2 = KFold(n_splits = 2)\n",
    "kf5 = KFold(n_splits = 5)\n",
    "\n",
    "k2_acc = cvs(qda, x2, ym2, cv = kf2, scoring = \"accuracy\")\n",
    "k5_acc = cvs(qda, x2, ym2, cv = kf5, scoring = \"accuracy\")\n",
    "print(\"QDA Model accuracy running cross validation with two k-folds:\", k2_acc)\n",
    "print(\"QDA Model accuracy running cross validation with five k-folds:\", k5_acc)\n",
    "\n",
    "kf2 = KFold(n_splits = 2)\n",
    "kf5 = KFold(n_splits = 5)\n",
    "\n",
    "k2_acc = cvs(qda, x2, ye2, cv = kf2, scoring = \"accuracy\")\n",
    "k5_acc = cvs(qda, x2, ye2, cv = kf5, scoring = \"accuracy\")\n",
    "print(\"QDA Model accuracy running cross validation with two k-folds:\", k2_acc)\n",
    "print(\"QDA Model accuracy running cross validation with five k-folds:\", k5_acc)"
   ]
  },
  {
   "cell_type": "code",
   "execution_count": null,
   "metadata": {},
   "outputs": [],
   "source": [
    "import warnings\n",
    "warnings.filterwarnings('ignore')\n",
    "\n",
    "kf2 = KFold(n_splits = 2)\n",
    "kf5 = KFold(n_splits = 5)\n",
    "\n",
    "k2_acc = cvs(lr, x2, ym2, cv = kf2, scoring = \"accuracy\")\n",
    "k5_acc = cvs(lr, x2, ym2, cv = kf5, scoring = \"accuracy\")\n",
    "print(\"LR Model accuracy running cross validation with two k-folds:\", k2_acc)\n",
    "print(\"LR Model accuracy running cross validation with five k-folds:\", k5_acc)\n",
    "\n",
    "kf2 = KFold(n_splits = 2)\n",
    "kf5 = KFold(n_splits = 5)\n",
    "\n",
    "k2_acc = cvs(lr, x2, ye2, cv = kf2, scoring = \"accuracy\")\n",
    "k5_acc = cvs(lr, x2, ye2, cv = kf5, scoring = \"accuracy\")\n",
    "print(\"LR Model accuracy running cross validation with two k-folds:\", k2_acc)\n",
    "print(\"LR Model accuracy running cross validation with five k-folds:\", k5_acc)"
   ]
  },
  {
   "attachments": {},
   "cell_type": "markdown",
   "metadata": {},
   "source": [
    "Given similar results of the cross validations, we will use half the data for training for model development."
   ]
  },
  {
   "attachments": {},
   "cell_type": "markdown",
   "metadata": {},
   "source": [
    "<br>\n",
    "<br>\n",
    "<br>\n",
    "\n",
    "## PCA\n",
    "<br>\n",
    "\n",
    "### Methane"
   ]
  },
  {
   "cell_type": "code",
   "execution_count": null,
   "metadata": {},
   "outputs": [],
   "source": [
    "sc =  StandardScaler()\n",
    "sc.fit(df3[['1','3','4','5','6','7','8','9','10','11','12','13','14','15','16']])\n",
    "a = sc.transform(df3[['1','3','4','5','6','7','8','9','10','11','12','13','14','15','16']])"
   ]
  },
  {
   "cell_type": "code",
   "execution_count": null,
   "metadata": {},
   "outputs": [],
   "source": [
    "ind=df3.index\n",
    "ind"
   ]
  },
  {
   "cell_type": "code",
   "execution_count": null,
   "metadata": {},
   "outputs": [],
   "source": [
    "dft = pd.DataFrame(a,index=ind,columns=['1s','3s','4s','5s','6s','7s','8s','9s','10s','11s','12s','13s','14s','15s','16s'])\n"
   ]
  },
  {
   "cell_type": "code",
   "execution_count": null,
   "metadata": {},
   "outputs": [],
   "source": [
    "df4 = pd.concat([df3,dft],axis=1)"
   ]
  },
  {
   "cell_type": "code",
   "execution_count": null,
   "metadata": {},
   "outputs": [],
   "source": [
    "x = df4[['1s','3s','4s','5s','6s','7s','8s','9s','10s','11s','12s','13s','14s','15s','16s']]\n",
    "y_meth = df4['Methane Bin']\n",
    "y_ethy = df4['Ethylene Bin']\n",
    "\n",
    "\n",
    "x_train, x_test, y_train, y_test = train_test_split(x, y_meth, test_size=0.50, random_state=42)\n",
    "\n",
    "x_train_2, x_test_2, y_train_2, y_test_2 = train_test_split(x, y_ethy, test_size=0.50, random_state=42)"
   ]
  },
  {
   "cell_type": "code",
   "execution_count": null,
   "metadata": {},
   "outputs": [],
   "source": [
    "pca = PCA()\n",
    "pca.fit(x_train)\n",
    "print(pca.explained_variance_ratio_)"
   ]
  },
  {
   "cell_type": "code",
   "execution_count": null,
   "metadata": {},
   "outputs": [],
   "source": [
    "a=np.cumsum(pca.explained_variance_ratio_)"
   ]
  },
  {
   "cell_type": "code",
   "execution_count": null,
   "metadata": {},
   "outputs": [],
   "source": [
    "a"
   ]
  },
  {
   "cell_type": "code",
   "execution_count": null,
   "metadata": {},
   "outputs": [],
   "source": [
    "x_train_pca = pca.transform(x_train)\n",
    "x_train_pca.shape"
   ]
  },
  {
   "cell_type": "code",
   "execution_count": null,
   "metadata": {},
   "outputs": [],
   "source": [
    "x_test_pca = pca.transform(x_test)\n",
    "x_test_pca.shape\n",
    "y_train.shape"
   ]
  },
  {
   "cell_type": "code",
   "execution_count": null,
   "metadata": {},
   "outputs": [],
   "source": [
    "mse = []\n",
    "for i in range(1,16,1):\n",
    "    pred = lr.fit(x_train_pca[:,:i], y_train.values.reshape(-1,1)).predict(x_test_pca[:,:i])\n",
    "    mse.append(sm.accuracy_score(y_test, pred))"
   ]
  },
  {
   "cell_type": "code",
   "execution_count": null,
   "metadata": {},
   "outputs": [],
   "source": [
    "plt.plot(mse)"
   ]
  },
  {
   "cell_type": "code",
   "execution_count": null,
   "metadata": {},
   "outputs": [],
   "source": [
    "mse"
   ]
  },
  {
   "attachments": {},
   "cell_type": "markdown",
   "metadata": {},
   "source": [
    "<br>\n",
    "<br>\n",
    "\n",
    "### Ethylene"
   ]
  },
  {
   "cell_type": "code",
   "execution_count": null,
   "metadata": {},
   "outputs": [],
   "source": [
    "pca2 = PCA()\n",
    "pca2.fit(x_train_2)\n",
    "print(pca2.explained_variance_ratio_)\n",
    "x_train_pca2 = pca2.transform(x_train_2)\n",
    "x_train_pca2.shape"
   ]
  },
  {
   "cell_type": "code",
   "execution_count": null,
   "metadata": {},
   "outputs": [],
   "source": [
    "x_test_pca2 = pca2.transform(x_test_2)\n",
    "x_test_pca2.shape"
   ]
  },
  {
   "cell_type": "code",
   "execution_count": null,
   "metadata": {},
   "outputs": [],
   "source": [
    "accur = []\n",
    "for i in range(1,16,1):\n",
    "    pred2 = lr.fit(x_train_pca2[:,:i], y_train_2.values.reshape(-1,1)).predict(x_test_pca2[:,:i])\n",
    "    accur.append(sm.accuracy_score(y_test_2, pred2))"
   ]
  },
  {
   "cell_type": "code",
   "execution_count": null,
   "metadata": {},
   "outputs": [],
   "source": [
    "plt.plot(accur)\n",
    "accur"
   ]
  },
  {
   "cell_type": "code",
   "execution_count": null,
   "metadata": {},
   "outputs": [],
   "source": [
    "pca2.components_.shape"
   ]
  },
  {
   "cell_type": "code",
   "execution_count": null,
   "metadata": {},
   "outputs": [],
   "source": [
    "pca2.components_[0]"
   ]
  },
  {
   "attachments": {},
   "cell_type": "markdown",
   "metadata": {},
   "source": [
    "<br>\n",
    "<br>\n",
    " \n",
    "# Performance of fine-tuned features"
   ]
  },
  {
   "cell_type": "code",
   "execution_count": null,
   "metadata": {},
   "outputs": [],
   "source": [
    "x5 =df3.drop(['Time','Methane','Ethylene','Methane Bin','Ethylene Bin'],axis=1)\n",
    "ym5 = df3['Methane Bin']\n",
    "ye5 = df3['Ethylene Bin']\n",
    "\n",
    "x5_train, x5_test, ym5_train, ym5_test, ye5_train, ye5_test = train_test_split(x5, ym5, ye5, test_size=0.50, random_state=42)"
   ]
  },
  {
   "attachments": {},
   "cell_type": "markdown",
   "metadata": {},
   "source": [
    "### LDA with added features"
   ]
  },
  {
   "cell_type": "code",
   "execution_count": null,
   "metadata": {},
   "outputs": [],
   "source": [
    "ym5test_pred_lda = lda.fit(x5_train, ym5_train).predict(x5_test)\n",
    "ye5test_pred_lda = lda.fit(x5_train, ye5_train).predict(x5_test)\n",
    "print(\"Methane LDA Accuracy = {}\".format(sm.accuracy_score(ym5_test, ym5test_pred_lda)))\n",
    "print(\"Ethylene LDA Accuracy = {}\".format(sm.accuracy_score(ye5_test, ye5test_pred_lda)))\n"
   ]
  },
  {
   "cell_type": "code",
   "execution_count": null,
   "metadata": {},
   "outputs": [],
   "source": [
    "print(\"LDA Ethylene model confusion matrix\")\n",
    "print(cr(ye5_test, ye5test_pred_lda))\n",
    "tn, fp, fn, tp = confusion_matrix(ye5_test, ye5test_pred_lda).ravel()\n",
    "ce_lda = np.array([tp,fp,fn,tn]).reshape((2,2))\n",
    "pd.DataFrame(ce_lda,columns= ['True yes','True no'],index=['Pred yes','Pred no'])"
   ]
  },
  {
   "cell_type": "code",
   "execution_count": null,
   "metadata": {},
   "outputs": [],
   "source": [
    "print(\"LDA Methane model confusion matrix\")\n",
    "print(cr(ym5_test, ym5test_pred_lda))\n",
    "tn, fp, fn, tp = confusion_matrix(ym5_test, ym5test_pred_lda).ravel()\n",
    "cm_lda = np.array([tp,fp,fn,tn]).reshape((2,2))\n",
    "pd.DataFrame(cm_lda,columns= ['True yes','True no'],index=['Pred yes','Pred no'])"
   ]
  },
  {
   "attachments": {},
   "cell_type": "markdown",
   "metadata": {},
   "source": [
    "### QDA with added features"
   ]
  },
  {
   "cell_type": "code",
   "execution_count": null,
   "metadata": {},
   "outputs": [],
   "source": [
    "ym5test_pred_qda = qda.fit(x5_train, ym5_train).predict(x5_test)\n",
    "ye5test_pred_qda = qda.fit(x5_train, ye5_train).predict(x5_test)\n",
    "\n",
    "print(\"Ethylene QDA Accuracy = {}\".format(sm.accuracy_score(ye5_test, ym5test_pred_qda)))\n",
    "print(\"Methane QDA Accuracy = {}\".format(sm.accuracy_score(ym5_test, ye5test_pred_qda)))\n"
   ]
  },
  {
   "cell_type": "code",
   "execution_count": null,
   "metadata": {},
   "outputs": [],
   "source": [
    "print(\"QDA Ethylene model confusion matrix\")\n",
    "print(cr(ye5_test, ye5test_pred_lda))\n",
    "tn, fp, fn, tp = confusion_matrix(ye5_test, ye5test_pred_lda).ravel()\n",
    "ce_qda = np.array([tp,fp,fn,tn]).reshape((2,2))\n",
    "pd.DataFrame(ce_qda,columns= ['True yes','True no'],index=['Pred yes','Pred no'])"
   ]
  },
  {
   "cell_type": "code",
   "execution_count": null,
   "metadata": {},
   "outputs": [],
   "source": [
    "print(\"QDA Methane model confusion matrix\")\n",
    "print(cr(ym5_test, ym5test_pred_lda))\n",
    "tn, fp, fn, tp = confusion_matrix(ym5_test, ym5test_pred_lda).ravel()\n",
    "cm_qda = np.array([tp,fp,fn,tn]).reshape((2,2))\n",
    "pd.DataFrame(cm_qda,columns= ['True yes','True no'],index=['Pred yes','Pred no'])"
   ]
  },
  {
   "attachments": {},
   "cell_type": "markdown",
   "metadata": {},
   "source": [
    "### Logistic Regression with added features"
   ]
  },
  {
   "cell_type": "code",
   "execution_count": null,
   "metadata": {},
   "outputs": [],
   "source": [
    "ym5test_pred_lr = lr.fit(x5_train, ym5_train).predict(x5_test)\n",
    "ye5test_pred_lr = lr.fit(x5_train, ye5_train).predict(x5_test)\n",
    "\n",
    "print(\"Ethylene Logistic Regression Accuracy = {}\".format(sm.accuracy_score(ye5_test, ym5test_pred_lr)))\n",
    "print(\"Methane Logistic Regression Accuracy = {}\".format(sm.accuracy_score(ym5_test, ye5test_pred_lr)))\n"
   ]
  },
  {
   "cell_type": "code",
   "execution_count": null,
   "metadata": {},
   "outputs": [],
   "source": [
    "print(\"Logistic Regression Ethylene model confusion matrix\")\n",
    "print(cr(ye5_test, ye5test_pred_lr))\n",
    "tn, fp, fn, tp = confusion_matrix(ye5_test, ye5test_pred_lr).ravel()\n",
    "ce_lr = np.array([tp,fp,fn,tn]).reshape((2,2))\n",
    "pd.DataFrame(ce_lr,columns= ['True yes','True no'],index=['Pred yes','Pred no'])"
   ]
  },
  {
   "cell_type": "code",
   "execution_count": null,
   "metadata": {},
   "outputs": [],
   "source": [
    "print(\"Logistic Regression Methane model confusion matrix\")\n",
    "print(cr(ym5_test, ym5test_pred_lr))\n",
    "tn, fp, fn, tp = confusion_matrix(ym5_test, ym5test_pred_lr).ravel()\n",
    "cm_lr = np.array([tp,fp,fn,tn]).reshape((2,2))\n",
    "pd.DataFrame(cm_lr,columns= ['True yes','True no'],index=['Pred yes','Pred no'])"
   ]
  }
 ],
 "metadata": {
  "kernelspec": {
   "display_name": "Python 3 (ipykernel)",
   "language": "python",
   "name": "python3"
  },
  "language_info": {
   "codemirror_mode": {
    "name": "ipython",
    "version": 3
   },
   "file_extension": ".py",
   "mimetype": "text/x-python",
   "name": "python",
   "nbconvert_exporter": "python",
   "pygments_lexer": "ipython3",
   "version": "3.10.9"
  }
 },
 "nbformat": 4,
 "nbformat_minor": 4
}
