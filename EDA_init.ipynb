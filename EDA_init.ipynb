{
 "cells": [
  {
   "cell_type": "code",
   "execution_count": null,
   "metadata": {},
   "outputs": [],
   "source": [
    "import pandas as pd\n",
    "import numpy as np\n",
    "import matplotlib.pyplot as plt\n",
    "from sklearn.preprocessing import MinMaxScaler \n",
    "from sklearn.preprocessing import StandardScaler \n",
    "\n",
    "\n",
    "%matplotlib inline"
   ]
  },
  {
   "cell_type": "code",
   "execution_count": null,
   "metadata": {},
   "outputs": [],
   "source": [
    "df = pd.read_csv('data/ethylene_methane.txt', delim_whitespace=True, skiprows=1, header=None, names=['Time','Methane','Ethylene','1','2','3','4','5','6','7','8','9','10','11','12','13','14','15','16'])"
   ]
  },
  {
   "cell_type": "code",
   "execution_count": null,
   "metadata": {},
   "outputs": [],
   "source": [
    "Methane_bin = []\n",
    "Ethylene_bin = []\n",
    "\n",
    "for i in df['Methane']:\n",
    "    if i > 0.0: \n",
    "        Methane_bin.append(int(1))\n",
    "    else:\n",
    "        Methane_bin.append(int(0))\n",
    "for i in df['Ethylene']:\n",
    "    if i > 0.0: \n",
    "        Ethylene_bin.append(int(1))\n",
    "    else:\n",
    "        Ethylene_bin.append(int(0))\n",
    "\n",
    "df['Methane Bin'] = Methane_bin\n",
    "df['Ethylene Bin'] = Ethylene_bin"
   ]
  },
  {
   "cell_type": "code",
   "execution_count": null,
   "metadata": {},
   "outputs": [],
   "source": [
    "df.head()"
   ]
  },
  {
   "cell_type": "code",
   "execution_count": null,
   "metadata": {},
   "outputs": [],
   "source": [
    "df.describe()"
   ]
  },
  {
   "cell_type": "code",
   "execution_count": null,
   "metadata": {},
   "outputs": [],
   "source": [
    "df.info()"
   ]
  },
  {
   "cell_type": "code",
   "execution_count": null,
   "metadata": {},
   "outputs": [],
   "source": [
    "#  Plot histogram of Methane and Ethylene\n",
    "#  Methane is the first column in the dataset\n",
    "#  We are using 50 bins for the histogram\n",
    "plt.figure(figsize=(16,3))\n",
    "plt.hist(df.Methane,50,label=\"Methane\")\n",
    "plt.legend(loc='upper right')\n",
    "plt.xlabel(\"Conecentration (ppm)\")\n",
    "plt.ylabel(\"Observations\")\n",
    "plt.title(\"Methane Histogram\") \n",
    "plt.show()\n"
   ]
  },
  {
   "cell_type": "code",
   "execution_count": null,
   "metadata": {},
   "outputs": [],
   "source": [
    "# Histogram of Ethylene to see the distribution of the data\n",
    "plt.figure(figsize=(16,3))\n",
    "plt.hist(df.Ethylene,50,label=\"Ethylene\", color='orange')\n",
    "plt.legend(loc='upper right')\n",
    "plt.xlabel(\"Conecentration (ppm)\")\n",
    "plt.ylabel(\"Observations\")\n",
    "plt.title(\"Ethylene Histogram\")\n",
    "plt.show()"
   ]
  },
  {
   "cell_type": "code",
   "execution_count": null,
   "metadata": {
    "scrolled": false
   },
   "outputs": [],
   "source": [
    "#  Plot histogram of Methane and Ethylene to see the distribution of the data in the same plot\n",
    "\n",
    "plt.figure(figsize=(16,3))\n",
    "plt.hist([df.Methane, df.Ethylene],50,label=[\"Methane\", \"Ethylene\"])\n",
    "plt.legend(loc='upper right')\n",
    "plt.xlabel(\"Conecentration (ppm)\")\n",
    "plt.ylabel(\"Observations\")\n",
    "plt.title(\"Methane and Ethylene Histogram\")\n",
    "plt.show()"
   ]
  },
  {
   "cell_type": "code",
   "execution_count": null,
   "metadata": {
    "scrolled": true
   },
   "outputs": [],
   "source": [
    "%matplotlib inline\n",
    "plt.figure(figsize=(16,6))\n",
    "plt.scatter(df['Time'],df['Methane'])"
   ]
  },
  {
   "cell_type": "code",
   "execution_count": null,
   "metadata": {
    "scrolled": true
   },
   "outputs": [],
   "source": [
    "plt.figure(figsize=(16,6))\n",
    "plt.scatter(df['Time'],df['Ethylene'])\n",
    "plt.show()"
   ]
  },
  {
   "cell_type": "code",
   "execution_count": null,
   "metadata": {},
   "outputs": [],
   "source": [
    "plt.figure(figsize=(16,6))\n",
    "plt.plot(df['Time'],df['Methane'] ,'.b',alpha=.1, label='Methane')\n",
    "plt.plot(df['Time'],df['Ethylene'],'.g',alpha=.1, label='Ethylene')\n",
    "plt.xlabel(\"Time (seconds)\")\n",
    "plt.ylabel(\"Concentration (ppm)\")\n",
    "plt.legend(loc='upper right')\n",
    "plt.show()"
   ]
  },
  {
   "cell_type": "code",
   "execution_count": null,
   "metadata": {},
   "outputs": [],
   "source": [
    "meth=df['1']\n",
    "meth=meth[:100000]\n",
    "t=df['Time']\n",
    "t=t[:100000]"
   ]
  },
  {
   "cell_type": "code",
   "execution_count": null,
   "metadata": {},
   "outputs": [],
   "source": [
    "%matplotlib inline\n",
    "\n",
    "plt.figure(figsize=(16,6))\n",
    "plt.plot(df['Time'], df['1'])\n",
    "plt.plot(df['Time'], df['2'])\n",
    "plt.plot(df['Time'], df['3'])\n",
    "plt.plot(df['Time'], df['4'])\n",
    "plt.plot(df['Time'], df['5'])\n",
    "plt.plot(df['Time'], df['6'])\n",
    "plt.plot(df['Time'], df['7'])\n",
    "plt.plot(df['Time'], df['8'])\n",
    "plt.plot(df['Time'], df['9'])\n",
    "plt.plot(df['Time'], df['10'])\n",
    "plt.plot(df['Time'], df['11'])\n",
    "plt.plot(df['Time'], df['12'])\n",
    "plt.plot(df['Time'], df['13'])\n",
    "plt.plot(df['Time'], df['14'])\n",
    "plt.plot(df['Time'], df['15'])\n",
    "plt.plot(df['Time'], df['16'])\n",
    "plt.xlabel('Time (seconds)')\n",
    "plt.ylabel('Readings')\n",
    "plt.axis(xmin=0, xmax=10000)\n",
    "plt.legend(loc='upper left', title =\"Sensor\")"
   ]
  },
  {
   "cell_type": "code",
   "execution_count": null,
   "metadata": {},
   "outputs": [],
   "source": [
    "plt.figure(figsize=(16,3))\n",
    "plt.plot(df['Time'], df['2'], label='Sensor 2')\n",
    "plt.xlabel('Time (seconds)')\n",
    "plt.ylabel('Readings')\n",
    "plt.legend(loc='upper left')"
   ]
  },
  {
   "cell_type": "code",
   "execution_count": null,
   "metadata": {},
   "outputs": [],
   "source": [
    "plt.figure(figsize=(16,3))\n",
    "plt.plot(df['Time'], df['1'])\n",
    "plt.xlabel('Time (seconds)')\n",
    "plt.ylabel('Readings')\n",
    "plt.legend(loc='upper left', title =\"Sensor\")"
   ]
  },
  {
   "cell_type": "code",
   "execution_count": null,
   "metadata": {},
   "outputs": [],
   "source": [
    "plt.figure(figsize=(16,3))\n",
    "plt.plot(df['Time'], 10*df['Methane'] ,label='Methane')\n",
    "plt.plot(df['Time'], 10*df['Ethylene'], label='Ethylene')\n",
    "plt.plot(df['Time'], df['1'],label='Sensor 1')\n",
    "plt.plot(df['Time'], df['2'],label='Sensor 2')\n",
    "plt.plot(df['Time'], df['9'],label='Sensor 9')\n",
    "plt.plot(df['Time'], df['10'],label='Sensor 10')\n",
    "plt.xlabel('Time (seconds)')\n",
    "plt.ylabel('Readings')\n",
    "plt.axis(xmin=0, xmax=10000)\n",
    "plt.legend(loc='upper left')\n",
    "plt.suptitle(\"TGS2602 Sensors\")"
   ]
  },
  {
   "cell_type": "code",
   "execution_count": null,
   "metadata": {},
   "outputs": [],
   "source": [
    "plt.figure(figsize=(16,3))\n",
    "plt.plot(df['Time'], 10*df['Methane'] ,label='Methane')\n",
    "plt.plot(df['Time'], 10*df['Ethylene'], label='Ethylene')\n",
    "plt.plot(df['Time'], df['3'], label='Sensor 3')\n",
    "plt.plot(df['Time'], df['4'], label='Sensor 4')\n",
    "plt.plot(df['Time'], df['11'], label='Sensor 11')\n",
    "plt.plot(df['Time'], df['12'], label='Sensor 12')\n",
    "plt.xlabel('Time (seconds)')\n",
    "plt.ylabel('Readings')\n",
    "plt.axis(xmin=0, xmax=1000)\n",
    "plt.legend(loc='upper left')\n",
    "plt.suptitle(\"TGS2600 Sensors\")"
   ]
  },
  {
   "cell_type": "code",
   "execution_count": null,
   "metadata": {},
   "outputs": [],
   "source": [
    "plt.figure(figsize=(16,3))\n",
    "plt.plot(df['Time'], 10*df['Methane'] ,label='Methane')\n",
    "plt.plot(df['Time'], 10*df['Ethylene'], label='Ethylene')\n",
    "plt.plot(df['Time'], df['5'])\n",
    "plt.plot(df['Time'], df['6'])\n",
    "plt.plot(df['Time'], df['13'])\n",
    "plt.plot(df['Time'], df['14'])\n",
    "plt.xlabel('Time (seconds)')\n",
    "plt.ylabel('Readings')\n",
    "plt.axis(xmin=0, xmax=10000)\n",
    "plt.legend(loc='upper left', title =\"Sensor\")\n",
    "plt.suptitle(\"TGS2610 Sensors\")"
   ]
  },
  {
   "cell_type": "code",
   "execution_count": null,
   "metadata": {},
   "outputs": [],
   "source": [
    "plt.figure(figsize=(16,3))\n",
    "plt.plot(df['Time'], 10*df['Methane'] ,label='Methane')\n",
    "plt.plot(df['Time'], 10*df['Ethylene'], label='Ethylene')\n",
    "plt.plot(df['Time'], df['7'])\n",
    "plt.plot(df['Time'], df['8'])\n",
    "plt.plot(df['Time'], df['15'])\n",
    "plt.plot(df['Time'], df['16'])\n",
    "plt.xlabel('Time (seconds)')\n",
    "plt.ylabel('Readings')\n",
    "plt.axis(xmin=0, xmax=10000)\n",
    "plt.legend(loc='upper left', title =\"Sensor\")\n",
    "plt.suptitle(\"TGS2620 Sensors\")"
   ]
  },
  {
   "cell_type": "code",
   "execution_count": null,
   "metadata": {},
   "outputs": [],
   "source": [
    "#Methane and Ethylene input\n",
    "\n",
    "plt.figure(figsize=(16,3))\n",
    "plt.plot(df['Time'], df['Methane'], label='Methane')\n",
    "plt.plot(df['Time'], df['Ethylene'], label='Ethylene')\n",
    "plt.xlabel('Time (seconds)')\n",
    "plt.ylabel('Concentration (ppm)')\n",
    "plt.legend(loc='upper right')\n",
    "plt.suptitle(\"Methane and Ethylene Concentration\")\n",
    "plt.show()\n"
   ]
  },
  {
   "cell_type": "code",
   "execution_count": null,
   "metadata": {},
   "outputs": [],
   "source": [
    "h = np.asarray(df['Methane']).reshape(-1,1)\n",
    "g = np.asarray(df['Ethylene']).reshape(-1,1)\n",
    "e = np.concatenate((h,g), axis=1)\n",
    "\n",
    "\n",
    "# As data is not normalized, we will use MinMaxScaler to normalize the data\n",
    "\n",
    "std_scaled_data = StandardScaler().fit_transform(e)\n",
    "plt.figure(figsize=(16,3))\n",
    "plt.plot(df['Time'], std_scaled_data[:,0], label = 'Methane')\n",
    "plt.plot(df['Time'], std_scaled_data[:,1], label = 'Ethylene')\n",
    "plt.xlabel('Time (seconds)')\n",
    "plt.ylabel('Normalized Concentration (ppm)')\n",
    "plt.legend(loc='upper right')\n",
    "\n",
    "\n",
    "min_max_scaled_data = MinMaxScaler().fit_transform(e)\n",
    "plt.figure(figsize=(16,3))\n",
    "plt.plot(df['Time'], min_max_scaled_data[:,0], label = 'Methane')\n",
    "plt.plot(df['Time'], min_max_scaled_data[:,1], label = 'Ethylene')\n",
    "plt.xlabel('Time (seconds)')\n",
    "plt.ylabel('Normalized Concentration (ppm)')\n",
    "plt.legend(loc='upper right')"
   ]
  },
  {
   "cell_type": "code",
   "execution_count": null,
   "metadata": {},
   "outputs": [],
   "source": [
    "plt.figure(figsize=(16,6))\n",
    "plt.plot(df['Time'], min_max_scaled_data[:,0], label = 'Methane')\n",
    "plt.plot(df['Time'], min_max_scaled_data[:,1], label = 'Ethylene')\n",
    "plt.xlabel('Time (seconds)')\n",
    "plt.ylabel('Normalized Concentration (ppm)')\n",
    "plt.legend(loc='upper right', )\n",
    "plt.axis(xmin=0, xmax=10000)"
   ]
  }
 ],
 "metadata": {
  "kernelspec": {
   "display_name": "Python 3 (ipykernel)",
   "language": "python",
   "name": "python3"
  },
  "language_info": {
   "codemirror_mode": {
    "name": "ipython",
    "version": 3
   },
   "file_extension": ".py",
   "mimetype": "text/x-python",
   "name": "python",
   "nbconvert_exporter": "python",
   "pygments_lexer": "ipython3",
   "version": "3.9.13"
  }
 },
 "nbformat": 4,
 "nbformat_minor": 2
}
